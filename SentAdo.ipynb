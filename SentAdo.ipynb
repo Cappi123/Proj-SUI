{
 "cells": [
  {
   "cell_type": "markdown",
   "id": "44feb642",
   "metadata": {},
   "source": [
    "Requirements :\n",
    "- Tweets, 1000 rows\n",
    "- Hence, 1000 rows of Sentiment Indicator\n",
    "\n",
    "- Volume, 1000 rows.\n",
    "- Normalised Adoption rate relative to ( last n days ) high"
   ]
  }
 ],
 "metadata": {
  "language_info": {
   "name": "python"
  }
 },
 "nbformat": 4,
 "nbformat_minor": 5
}
